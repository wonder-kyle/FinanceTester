{
 "cells": [
  {
   "cell_type": "code",
   "execution_count": 4,
   "metadata": {},
   "outputs": [
    {
     "name": "stdout",
     "output_type": "stream",
     "text": [
      "C:\\Users\\Administrator\n"
     ]
    },
    {
     "data": {
      "text/plain": [
       "'C:\\\\Users\\\\Administrator'"
      ]
     },
     "execution_count": 4,
     "metadata": {},
     "output_type": "execute_result"
    }
   ],
   "source": [
    "%cd C:\\\\Users\\\\Administrator\n",
    "%pwd"
   ]
  },
  {
   "cell_type": "code",
   "execution_count": 5,
   "metadata": {},
   "outputs": [],
   "source": [
    "import pandas as pd\n",
    "import datetime\n",
    "import numpy as np"
   ]
  },
  {
   "cell_type": "code",
   "execution_count": 6,
   "metadata": {},
   "outputs": [],
   "source": [
    "from FinanceTester.strategy import strategy\n",
    "from FinanceTester.data import (PriceReader, SheetReader, StockListing, PriceCrossSectionReader)\n",
    "from FinanceTester.sheet.data import (FinanceSheetCrawler)\n",
    "from FinanceTester._utils import NegativeDenominatorError"
   ]
  },
  {
   "cell_type": "code",
   "execution_count": 7,
   "metadata": {},
   "outputs": [],
   "source": [
    "kospi_basket=StockListing('Kospi').Symbol\n",
    "test_basket=np.random.permutation(kospi_basket)[:100]"
   ]
  },
  {
   "cell_type": "code",
   "execution_count": 8,
   "metadata": {},
   "outputs": [],
   "source": [
    "sector_basket=StockListing('Kospi').groupby('Sector')"
   ]
  },
  {
   "cell_type": "code",
   "execution_count": 9,
   "metadata": {},
   "outputs": [],
   "source": [
    "key_list=[]\n",
    "for k,v in sector_basket.groups.items():\n",
    "    if len(v) <= 2:\n",
    "        continue\n",
    "    elif '금융' in k:\n",
    "        continue\n",
    "    elif '보험' in k:\n",
    "        continue\n",
    "    else:\n",
    "        key_list.append(k)\n",
    "        #a = sector_basket.get_group(k)"
   ]
  },
  {
   "cell_type": "code",
   "execution_count": 10,
   "metadata": {},
   "outputs": [],
   "source": [
    "a2=strategy()\n",
    "a.fit(score_2) #현금흐름\n",
    "a3=strategy()\n",
    "a.fit(score_3) #당기순이익"
   ]
  },
  {
   "cell_type": "code",
   "execution_count": 14,
   "metadata": {
    "scrolled": true
   },
   "outputs": [
    {
     "name": "stdout",
     "output_type": "stream",
     "text": [
      "104700 has negative denominator\n",
      "009190 has negative denominator\n",
      "084010 has negative denominator\n",
      "001770 has negative denominator\n",
      "071090 has negative denominator\n",
      "069730 has negative denominator\n",
      "008260 has negative denominator\n",
      "002690 has negative denominator\n",
      "001080 has negative denominator\n",
      "008420 has negative denominator\n",
      "008970 has negative denominator\n",
      "026940 has negative denominator\n",
      "003030 has negative denominator\n",
      "007280 has negative denominator\n",
      "133820 has negative denominator\n",
      "012160 has negative denominator\n",
      "134790 has negative denominator\n",
      "016800 has negative denominator\n",
      "079430 has negative denominator\n",
      "011090 has negative denominator\n",
      "011330 has negative denominator\n",
      "013700 has negative denominator\n",
      "047040 has negative denominator\n",
      "001880 has negative denominator\n",
      "034300 has negative denominator\n",
      "002460 has negative denominator\n",
      "052690 has negative denominator\n",
      "023350 has negative denominator\n",
      "282690 has negative denominator\n",
      "006980 has negative denominator\n",
      "014160 has negative denominator\n",
      "109070 has negative denominator\n",
      "006740 has negative denominator\n",
      "085310 has negative denominator\n",
      "058730 has negative denominator\n",
      "002700 has negative denominator\n",
      "005110 has negative denominator\n",
      "207940 has negative denominator\n",
      "214390 has negative denominator\n",
      "005690 has negative denominator\n",
      "023450 has negative denominator\n",
      "268280 has negative denominator\n",
      "005950 has negative denominator\n",
      "006890 has negative denominator\n",
      "010640 has negative denominator\n",
      "001340 has negative denominator\n",
      "007690 has negative denominator\n",
      "006380 has negative denominator\n",
      "120030 has negative denominator\n",
      "004450 has negative denominator\n",
      "007460 has negative denominator\n",
      "004090 has negative denominator\n",
      "002600 has negative denominator\n",
      "011150 has negative denominator\n",
      "004410 has negative denominator\n",
      "264900 has negative denominator\n",
      "001740 has negative denominator\n",
      "018670 has negative denominator\n",
      "093230 has negative denominator\n",
      "000760 has negative denominator\n",
      "010420 has negative denominator\n",
      "090350 has negative denominator\n",
      "025620 has negative denominator\n",
      "192820 has negative denominator\n",
      "002760 has negative denominator\n",
      "005420 has negative denominator\n",
      "134380 has negative denominator\n",
      "005070 has negative denominator\n",
      "003350 has negative denominator\n",
      "004910 has negative denominator\n",
      "011500 has negative denominator\n",
      "083420 has negative denominator\n",
      "002270 has negative denominator\n",
      "010780 has negative denominator\n",
      "047400 has negative denominator\n",
      "010040 has negative denominator\n",
      "014130 has negative denominator\n",
      "103130 has negative denominator\n",
      "011930 has negative denominator\n",
      "020760 has negative denominator\n",
      "011690 has negative denominator\n",
      "000950 has negative denominator\n",
      "111110 has negative denominator\n",
      "016090 has negative denominator\n",
      "007980 has negative denominator\n",
      "090370 has negative denominator\n",
      "204210 has negative denominator\n",
      "293940 has negative denominator\n",
      "088260 has negative denominator\n",
      "210980 has negative denominator\n",
      "140890 has negative denominator\n",
      "145270 has negative denominator\n",
      "140910 has negative denominator\n",
      "007590 has negative denominator\n",
      "003080 has negative denominator\n",
      "001550 has negative denominator\n",
      "002100 has negative denominator\n",
      "011810 has negative denominator\n",
      "122900 has negative denominator\n",
      "004060 has negative denominator\n",
      "011760 has negative denominator\n",
      "010600 has negative denominator\n",
      "008600 has negative denominator\n",
      "101140 has negative denominator\n",
      "123690 has negative denominator\n",
      "003650 has negative denominator\n",
      "002960 has negative denominator\n",
      "009540 has negative denominator\n",
      "042660 has negative denominator\n",
      "010620 has negative denominator\n",
      "014710 has negative denominator\n",
      "006090 has negative denominator\n",
      "003680 has negative denominator\n",
      "004440 has negative denominator\n",
      "300720 has negative denominator\n",
      "000910 has negative denominator\n",
      "183190 has negative denominator\n",
      "006390 has negative denominator\n",
      "034830 has negative denominator\n",
      "168490 has negative denominator\n",
      "088980 has negative denominator\n",
      "096300 has negative denominator\n",
      "099340 has negative denominator\n",
      "123890 has negative denominator\n",
      "094800 has negative denominator\n",
      "099350 has negative denominator\n",
      "152550 has negative denominator\n",
      "033920 has negative denominator\n",
      "000890 has negative denominator\n",
      "015350 has negative denominator\n",
      "004690 has negative denominator\n",
      "017390 has negative denominator\n",
      "019490 has negative denominator\n",
      "008700 has negative denominator\n",
      "002420 has negative denominator\n",
      "083370 has negative denominator\n",
      "083380 has negative denominator\n",
      "068400 has negative denominator\n",
      "008870 has negative denominator\n",
      "152330 has negative denominator\n",
      "114090 has negative denominator\n",
      "084680 has negative denominator\n",
      "000030 has negative denominator\n",
      "006220 has negative denominator\n",
      "005500 has negative denominator\n",
      "033270 has negative denominator\n",
      "271980 has negative denominator\n",
      "128940 has negative denominator\n",
      "003520 has negative denominator\n",
      "011000 has negative denominator\n",
      "016580 has negative denominator\n",
      "063160 has negative denominator\n",
      "001360 has negative denominator\n",
      "006280 has negative denominator\n",
      "002210 has negative denominator\n",
      "000020 has negative denominator\n",
      "002250 has negative denominator\n",
      "002630 has negative denominator\n",
      "003060 has negative denominator\n",
      "003120 has negative denominator\n",
      "004310 has negative denominator\n",
      "082740 has negative denominator\n",
      "267270 has negative denominator\n",
      "015590 has negative denominator\n",
      "004380 has negative denominator\n",
      "100840 has negative denominator\n",
      "074610 has negative denominator\n",
      "012600 has negative denominator\n",
      "119650 has negative denominator\n",
      "012200 has negative denominator\n",
      "077970 has negative denominator\n",
      "006400 has negative denominator\n",
      "002880 has negative denominator\n",
      "012280 has negative denominator\n",
      "023800 has negative denominator\n",
      "023000 has negative denominator\n",
      "005030 has negative denominator\n",
      "001420 has negative denominator\n",
      "090080 has negative denominator\n",
      "010690 has negative denominator\n",
      "010580 has negative denominator\n",
      "011210 has negative denominator\n",
      "009320 has negative denominator\n",
      "015230 has negative denominator\n",
      "020120 has negative denominator\n",
      "023590 has negative denominator\n",
      "072130 has negative denominator\n",
      "017040 has negative denominator\n",
      "009140 has negative denominator\n",
      "008060 has negative denominator\n",
      "007660 has negative denominator\n",
      "033180 has negative denominator\n",
      "001440 has negative denominator\n",
      "027390 has negative denominator\n",
      "006370 has negative denominator\n",
      "023530 has negative denominator\n",
      "037710 has negative denominator\n",
      "001070 has negative denominator\n",
      "011300 has negative denominator\n",
      "025560 has negative denominator\n",
      "281820 has negative denominator\n",
      "007120 has negative denominator\n",
      "035510 has negative denominator\n",
      "030790 has negative denominator\n",
      "004200 has negative denominator\n",
      "003070 has negative denominator\n",
      "009410 has negative denominator\n",
      "013360 has negative denominator\n",
      "007630 has negative denominator\n",
      "005870 has negative denominator\n",
      "092440 has negative denominator\n",
      "017370 has negative denominator\n",
      "049800 has negative denominator\n",
      "025890 has negative denominator\n",
      "010660 has negative denominator\n",
      "009460 has negative denominator\n",
      "004540 has negative denominator\n",
      "001020 has negative denominator\n",
      "027970 has negative denominator\n",
      "002300 has negative denominator\n",
      "003720 has negative denominator\n",
      "014440 has negative denominator\n",
      "051630 has negative denominator\n",
      "272550 has negative denominator\n",
      "008730 has negative denominator\n",
      "272450 has negative denominator\n",
      "011200 has negative denominator\n",
      "003280 has negative denominator\n",
      "298020 has negative denominator\n",
      "144620 has negative denominator\n",
      "003830 has negative denominator\n",
      "002620 has negative denominator\n"
     ]
    }
   ],
   "source": [
    "df_dict = {}\n",
    "for i, sector in enumerate(key_list):\n",
    "    if i == 0: continue\n",
    "    df = sector_basket.get_group(sector)\n",
    "    df = df.join(a3.screening(df.Symbol),on='Symbol').sort_values('score')\n",
    "    df = df.join(a2.screening(df.Symbol),on='Symbol').sort_values('score')\n",
    "    df_dict[sector] = df"
   ]
  },
  {
   "cell_type": "code",
   "execution_count": 16,
   "metadata": {},
   "outputs": [],
   "source": [
    "for k,v in df_dict.items():\n",
    "    v.to_csv('{}.csv'.format(k))"
   ]
  },
  {
   "cell_type": "markdown",
   "metadata": {},
   "source": [
    "### Screening 1"
   ]
  },
  {
   "cell_type": "markdown",
   "metadata": {},
   "source": [
    "네이버에서 제공하는 '순자산' 항목으로 스크리닝"
   ]
  },
  {
   "cell_type": "code",
   "execution_count": 14,
   "metadata": {},
   "outputs": [],
   "source": [
    "def score_1(df):\n",
    "    market_cap = df.loc['Market_cap']/100000000\n",
    "    book_value = df.loc['190670'] #순자산 by NAVER Finance\n",
    "    upper = market_cap - book_value\n",
    "    lower = df.loc['400000'] #영업활동현금흐름\n",
    "    if lower.values < 0 :\n",
    "        raise NegativeDenominatorError()\n",
    "    score = upper/lower\n",
    "    return '%.4f' %score.values"
   ]
  },
  {
   "cell_type": "code",
   "execution_count": 22,
   "metadata": {
    "scrolled": false
   },
   "outputs": [
    {
     "name": "stdout",
     "output_type": "stream",
     "text": [
      "027390 doesn't have account which you ask\n",
      "006370 has negative denominator\n",
      "023530 has negative denominator\n",
      "037710 doesn't have account which you ask\n"
     ]
    }
   ],
   "source": [
    "a.fit(score_1)\n",
    "b=a.screening(sector_basket.get_group('종합 소매업').Symbol)"
   ]
  },
  {
   "cell_type": "markdown",
   "metadata": {},
   "source": [
    "### Screening 2"
   ]
  },
  {
   "cell_type": "markdown",
   "metadata": {},
   "source": [
    "112840:\t재고자산\n",
    "\n",
    "113090:\t단기금융자산\n",
    "190560: 매출채권 %미수금 등은 인정X\n",
    "113650:\t당기법인세자산(선급법인세)\n",
    "190650: 현금및현금성자산\n",
    "113920:\t매각예정비유동자산및처분자산\n",
    "\n",
    "190010: 토지 %유형자산\n",
    "190020: 설비자산 %유형자산\n",
    "190030: 건물및부속설비 %유형자산\n",
    "\n",
    "190310: 투자자산\n",
    "\n",
    "\n",
    "130000:\t부채총계"
   ]
  },
  {
   "cell_type": "code",
   "execution_count": 12,
   "metadata": {},
   "outputs": [],
   "source": [
    "def score_2(df):\n",
    "    market_cap = df.loc['Market_cap']/100000000\n",
    "    \n",
    "    data = df.reindex(['112840','113090','190560','113650','190650','113920','190010','190020','190030','190310','130000','400000']).fillna(0)\n",
    "    \n",
    "    book_value = data.loc['112840']*0.33 #재고자산\n",
    "    \n",
    "    book_value += data.loc['113090']*0.95 #단기금융자산\n",
    "    book_value += data.loc['190560']*0.5 #매출채권\n",
    "    book_value += data.loc['113650']*1.0 #당기법인세자산\n",
    "    book_value += data.loc['190650']*1.0 #현금 및 현금성자산\n",
    "    book_value += data.loc['113920']*0.66 #매각예정비유동자산및처분자산\n",
    "        \n",
    "    book_value += data.loc['190010']*1.0 #토지\n",
    "    book_value += data.loc['190020']*0.2 #설비자산\n",
    "    book_value += data.loc['190030']*0.2 #건물 및 부속설비\n",
    "        \n",
    "    book_value -= data.loc['130000']*1.0 #부채총계\n",
    "        \n",
    "    upper = market_cap*0.9 - book_value #안전마진\n",
    "    \n",
    "    lower = data.loc['400000'] #영업활동현금흐름\n",
    "    \n",
    "    if lower.values <= 0 :\n",
    "        raise NegativeDenominatorError()\n",
    "        \n",
    "    score = upper/lower\n",
    "    \n",
    "    return '%.4f' %score.values"
   ]
  },
  {
   "cell_type": "code",
   "execution_count": 57,
   "metadata": {
    "scrolled": false
   },
   "outputs": [
    {
     "ename": "NameError",
     "evalue": "name 'kospi_basket' is not defined",
     "output_type": "error",
     "traceback": [
      "\u001b[1;31m---------------------------------------------------------------------------\u001b[0m",
      "\u001b[1;31mNameError\u001b[0m                                 Traceback (most recent call last)",
      "\u001b[1;32m<ipython-input-57-4d345fdf04f0>\u001b[0m in \u001b[0;36m<module>\u001b[1;34m()\u001b[0m\n\u001b[0;32m      1\u001b[0m \u001b[0ma\u001b[0m\u001b[1;33m.\u001b[0m\u001b[0mfit\u001b[0m\u001b[1;33m(\u001b[0m\u001b[0mscore_2\u001b[0m\u001b[1;33m)\u001b[0m\u001b[1;33m\u001b[0m\u001b[0m\n\u001b[1;32m----> 2\u001b[1;33m \u001b[0mb\u001b[0m\u001b[1;33m=\u001b[0m\u001b[0ma\u001b[0m\u001b[1;33m.\u001b[0m\u001b[0mscreening\u001b[0m\u001b[1;33m(\u001b[0m\u001b[0mkospi_basket\u001b[0m\u001b[1;33m)\u001b[0m\u001b[1;33m\u001b[0m\u001b[0m\n\u001b[0m",
      "\u001b[1;31mNameError\u001b[0m: name 'kospi_basket' is not defined"
     ]
    }
   ],
   "source": [
    "a.fit(score_2)\n",
    "b=a.screening(kospi_basket)"
   ]
  },
  {
   "cell_type": "markdown",
   "metadata": {},
   "source": [
    "### Screening 3"
   ]
  },
  {
   "cell_type": "markdown",
   "metadata": {},
   "source": [
    "112840:\t재고자산\n",
    "\n",
    "113090:\t단기금융자산\n",
    "190560: 매출채권 %미수금 등은 인정X\n",
    "113650:\t당기법인세자산(선급법인세)\n",
    "190650: 현금및현금성자산\n",
    "113920:\t매각예정비유동자산및처분자산\n",
    "\n",
    "190010: 토지 %유형자산\n",
    "190020: 설비자산 %유형자산\n",
    "190030: 건물및부속설비 %유형자산\n",
    "\n",
    "190310: 투자자산\n",
    "\n",
    "\n",
    "130000:\t부채총계"
   ]
  },
  {
   "cell_type": "code",
   "execution_count": 12,
   "metadata": {},
   "outputs": [],
   "source": [
    "def score_3(df):\n",
    "    market_cap = df.loc['Market_cap']/100000000\n",
    "    \n",
    "    data = df.reindex(['112840','113090','190560','113650','190650','113920','190010','190020','190030','190310','130000','400000']).fillna(0)\n",
    "    \n",
    "    book_value = data.loc['112840']*0.33 #재고자산\n",
    "    \n",
    "    book_value += data.loc['113090']*0.95 #단기금융자산\n",
    "    book_value += data.loc['190560']*0.5 #매출채권\n",
    "    book_value += data.loc['113650']*1.0 #당기법인세자산\n",
    "    book_value += data.loc['190650']*1.0 #현금 및 현금성자산\n",
    "    book_value += data.loc['113920']*0.66 #매각예정비유동자산및처분자산\n",
    "        \n",
    "    book_value += data.loc['190010']*1.0 #토지\n",
    "    book_value += data.loc['190020']*0.2 #설비자산\n",
    "    book_value += data.loc['190030']*0.2 #건물 및 부속설비\n",
    "        \n",
    "    book_value -= data.loc['130000']*1.0 #부채총계\n",
    "        \n",
    "    upper = market_cap*0.9 - book_value #안전마진\n",
    "    \n",
    "    lower = data.loc['203170'] #당기순이익\n",
    "    \n",
    "    if lower.values <= 0 :\n",
    "        raise NegativeDenominatorError()\n",
    "        \n",
    "    score = upper/lower\n",
    "    \n",
    "    return '%.4f' %score.values"
   ]
  }
 ],
 "metadata": {
  "kernelspec": {
   "display_name": "Python 3",
   "language": "python",
   "name": "python3"
  },
  "language_info": {
   "codemirror_mode": {
    "name": "ipython",
    "version": 3
   },
   "file_extension": ".py",
   "mimetype": "text/x-python",
   "name": "python",
   "nbconvert_exporter": "python",
   "pygments_lexer": "ipython3",
   "version": "3.6.5"
  }
 },
 "nbformat": 4,
 "nbformat_minor": 2
}
