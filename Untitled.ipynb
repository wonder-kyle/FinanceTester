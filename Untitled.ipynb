{
 "cells": [
  {
   "cell_type": "code",
   "execution_count": 1,
   "metadata": {},
   "outputs": [
    {
     "name": "stdout",
     "output_type": "stream",
     "text": [
      "C:\\Users\\Cyber\n"
     ]
    },
    {
     "data": {
      "text/plain": [
       "'C:\\\\Users\\\\Cyber'"
      ]
     },
     "execution_count": 1,
     "metadata": {},
     "output_type": "execute_result"
    }
   ],
   "source": [
    "%cd C:\\\\Users\\\\Cyber\n",
    "%pwd"
   ]
  },
  {
   "cell_type": "code",
   "execution_count": 2,
   "metadata": {},
   "outputs": [],
   "source": [
    "from FinanceTester.strategy import strategy\n",
    "from FinanceTester.data import (PriceReader, SheetReader, StockListing, PriceCrossSectionReader)\n",
    "from FinanceTester.sheet.data import (FinanceSheetCrawler)\n",
    "from FinanceTester._utils import NegativeDenominatorError"
   ]
  },
  {
   "cell_type": "code",
   "execution_count": 3,
   "metadata": {},
   "outputs": [],
   "source": [
    "import pandas as pd\n",
    "import datetime\n",
    "import numpy as np"
   ]
  },
  {
   "cell_type": "code",
   "execution_count": 4,
   "metadata": {},
   "outputs": [],
   "source": [
    "kospi_basket=StockListing('Kospi').Symbol\n",
    "test_basket=np.random.permutation(kospi_basket)[:100]"
   ]
  },
  {
   "cell_type": "code",
   "execution_count": 7,
   "metadata": {},
   "outputs": [],
   "source": [
    "sector_basket=StockListing('Kospi').groupby('Sector')"
   ]
  },
  {
   "cell_type": "code",
   "execution_count": null,
   "metadata": {},
   "outputs": [],
   "source": [
    "sector_basket.groups.keys()"
   ]
  },
  {
   "cell_type": "code",
   "execution_count": 13,
   "metadata": {},
   "outputs": [],
   "source": [
    "a=strategy()"
   ]
  },
  {
   "cell_type": "markdown",
   "metadata": {},
   "source": [
    "### Screening 1"
   ]
  },
  {
   "cell_type": "markdown",
   "metadata": {},
   "source": [
    "네이버에서 제공하는 '순자산' 항목으로 스크리닝"
   ]
  },
  {
   "cell_type": "code",
   "execution_count": 14,
   "metadata": {},
   "outputs": [],
   "source": [
    "def score_1(df):\n",
    "    market_cap = df.loc['Market_cap']/100000000\n",
    "    book_value = df.loc['190670'] #순자산 by NAVER Finance\n",
    "    upper = market_cap - book_value\n",
    "    lower = df.loc['400000'] #영업활동현금흐름\n",
    "    if lower.values < 0 :\n",
    "        raise NegativeDenominatorError()\n",
    "    score = upper/lower\n",
    "    return '%.4f' %score.values"
   ]
  },
  {
   "cell_type": "code",
   "execution_count": 22,
   "metadata": {
    "scrolled": false
   },
   "outputs": [
    {
     "name": "stdout",
     "output_type": "stream",
     "text": [
      "027390 doesn't have account which you ask\n",
      "006370 has negative denominator\n",
      "023530 has negative denominator\n",
      "037710 doesn't have account which you ask\n"
     ]
    }
   ],
   "source": [
    "a.fit(score_1)\n",
    "b=a.screening(sector_basket.get_group('종합 소매업').Symbol)"
   ]
  },
  {
   "cell_type": "markdown",
   "metadata": {},
   "source": [
    "### Screening 2"
   ]
  },
  {
   "cell_type": "markdown",
   "metadata": {},
   "source": [
    "112840:\t재고자산\n",
    "\n",
    "113090:\t단기금융자산\n",
    "190560: 매출채권 %미수금 등은 인정X\n",
    "113650:\t당기법인세자산(선급법인세)\n",
    "190650: 현금및현금성자산\n",
    "113920:\t매각예정비유동자산및처분자산\n",
    "\n",
    "190010: 토지 %유형자산\n",
    "190020: 설비자산 %유형자산\n",
    "190030: 건물및부속설비 %유형자산\n",
    "\n",
    "190310: 투자자산\n",
    "\n",
    "\n",
    "130000:\t부채총계"
   ]
  },
  {
   "cell_type": "code",
   "execution_count": 27,
   "metadata": {},
   "outputs": [],
   "source": [
    "def score_2(df):\n",
    "    market_cap = df.loc['Market_cap']/100000000\n",
    "    \n",
    "    data = df.reindex(['112840','113090','190560','113650','190650','113920','190010','190020','190030','190310','130000','400000']).fillna(0)\n",
    "    \n",
    "    book_value = data.loc['112840']*0.33 #재고자산\n",
    "    \n",
    "    book_value += data.loc['113090']*0.95 #단기금융자산\n",
    "    book_value += data.loc['190560']*0.5 #매출채권\n",
    "    book_value += data.loc['113650']*1.0 #당기법인세자산\n",
    "    book_value += data.loc['190650']*1.0 #현금 및 현금성자산\n",
    "    book_value += data.loc['113920']*0.66 #매각예정비유동자산및처분자산\n",
    "        \n",
    "    book_value += data.loc['190010']*1.0 #토지\n",
    "    book_value += data.loc['190020']*0.2 #설비자산\n",
    "    book_value += data.loc['190030']*0.2 #건물 및 부속설비\n",
    "        \n",
    "    book_value -= data.loc['130000']*1.0 #부채총계\n",
    "        \n",
    "    upper = market_cap*0.9 - book_value #안전마진\n",
    "    \n",
    "    lower = data.loc['400000'] #영업활동현금흐름\n",
    "    \n",
    "    if lower.values <= 0 :\n",
    "        raise NegativeDenominatorError()\n",
    "        \n",
    "    score = upper/lower\n",
    "    \n",
    "    return '%.4f' %score.values"
   ]
  },
  {
   "cell_type": "code",
   "execution_count": null,
   "metadata": {},
   "outputs": [
    {
     "name": "stdout",
     "output_type": "stream",
     "text": [
      "082740 has negative denominator\n",
      "001740 has negative denominator\n",
      "011810 has negative denominator\n",
      "011420 has negative denominator\n"
     ]
    },
    {
     "name": "stderr",
     "output_type": "stream",
     "text": [
      "C:\\ProgramData\\Anaconda3\\lib\\site-packages\\ipykernel_launcher.py:24: RuntimeWarning: invalid value encountered in less_equal\n"
     ]
    },
    {
     "name": "stdout",
     "output_type": "stream",
     "text": [
      "090350 has negative denominator\n",
      "033920 has negative denominator\n",
      "006400 has negative denominator\n",
      "029780 has negative denominator\n",
      "003720 has negative denominator\n",
      "010780 has negative denominator\n",
      "005820 has negative denominator\n",
      "008600 has negative denominator\n",
      "047400 has negative denominator\n",
      "023800 has negative denominator\n",
      "002620 has negative denominator\n",
      "192820 has negative denominator\n",
      "020120 has negative denominator\n",
      "128940 has negative denominator\n",
      "267270 has negative denominator\n",
      "111110 has negative denominator\n",
      "105560 has negative denominator\n",
      "000040 has negative denominator\n",
      "004540 has negative denominator\n",
      "006370 has negative denominator\n",
      "047040 has negative denominator\n",
      "001070 has negative denominator\n",
      "001440 has negative denominator\n",
      "084010 has negative denominator\n",
      "007590 has negative denominator\n",
      "003850 has negative denominator\n",
      "000890 has negative denominator\n",
      "008040 has negative denominator\n",
      "122900 has negative denominator\n",
      "085310 has negative denominator\n",
      "014440 has negative denominator\n",
      "005950 has negative denominator\n",
      "008500 has negative denominator\n",
      "011000 has negative denominator\n",
      "005420 has negative denominator\n",
      "006890 has negative denominator\n",
      "019490 has negative denominator\n",
      "071050 has negative denominator\n",
      "011200 has negative denominator\n",
      "241590 has negative denominator\n",
      "037270 has negative denominator\n",
      "058730 has negative denominator\n",
      "027740 has negative denominator\n",
      "008560 has negative denominator\n",
      "016360 has negative denominator\n",
      "011330 has negative denominator\n",
      "001200 has negative denominator\n",
      "044820 has negative denominator\n",
      "002020 has negative denominator\n",
      "007980 has negative denominator\n",
      "007630 has negative denominator\n",
      "071090 has negative denominator\n",
      "012450 has negative denominator\n",
      "094280 has negative denominator\n",
      "095570 has negative denominator\n",
      "068400 has negative denominator\n",
      "079550 has negative denominator\n",
      "005940 has negative denominator\n",
      "210980 has negative denominator\n",
      "001510 has negative denominator\n",
      "285130 has negative denominator\n",
      "009140 has negative denominator\n",
      "092440 has negative denominator\n",
      "004990 has negative denominator\n",
      "007120 has negative denominator\n",
      "006880 has negative denominator\n",
      "112610 has negative denominator\n",
      "017370 has negative denominator\n",
      "049800 has negative denominator\n",
      "011690 has negative denominator\n",
      "003070 has negative denominator\n",
      "144620 has negative denominator\n",
      "039490 has negative denominator\n",
      "001020 has negative denominator\n",
      "016610 has negative denominator\n",
      "139130 has negative denominator\n",
      "018670 has negative denominator\n",
      "006120 has negative denominator\n",
      "001140 has negative denominator\n",
      "074610 has negative denominator\n",
      "006280 has negative denominator\n",
      "001080 has negative denominator\n",
      "090370 has negative denominator\n",
      "001270 has negative denominator\n",
      "145210 has negative denominator\n",
      "009270 has negative denominator\n",
      "005450 has negative denominator\n",
      "007460 has negative denominator\n",
      "006980 has negative denominator\n",
      "010600 has negative denominator\n",
      "093230 has negative denominator\n",
      "012600 has negative denominator\n",
      "090080 has negative denominator\n",
      "003010 has negative denominator\n",
      "010690 has negative denominator\n",
      "012030 has negative denominator\n",
      "002100 has negative denominator\n",
      "030610 has negative denominator\n",
      "007690 has negative denominator\n",
      "008970 has negative denominator\n",
      "023530 has negative denominator\n",
      "004690 has negative denominator\n",
      "002820 has negative denominator\n",
      "003030 has negative denominator\n",
      "004920 has negative denominator\n",
      "183190 has negative denominator\n",
      "118000 has negative denominator\n",
      "015860 has negative denominator\n",
      "000950 has negative denominator\n",
      "123690 has negative denominator\n",
      "009180 has negative denominator\n",
      "213500 has negative denominator\n",
      "079430 has negative denominator\n",
      "155660 has negative denominator\n",
      "119650 has negative denominator\n",
      "030210 has negative denominator\n",
      "229640 has negative denominator\n",
      "004060 has negative denominator\n",
      "023590 has negative denominator\n",
      "042660 has negative denominator\n",
      "025560 has negative denominator\n",
      "008700 has negative denominator\n",
      "002630 has negative denominator\n",
      "007660 has negative denominator\n",
      "004910 has negative denominator\n",
      "044380 has negative denominator\n",
      "002300 has negative denominator\n"
     ]
    }
   ],
   "source": [
    "a.fit(score_2)\n",
    "b=a.screening(kospi_basket)"
   ]
  }
 ],
 "metadata": {
  "kernelspec": {
   "display_name": "Python 3",
   "language": "python",
   "name": "python3"
  },
  "language_info": {
   "codemirror_mode": {
    "name": "ipython",
    "version": 3
   },
   "file_extension": ".py",
   "mimetype": "text/x-python",
   "name": "python",
   "nbconvert_exporter": "python",
   "pygments_lexer": "ipython3",
   "version": "3.6.5"
  }
 },
 "nbformat": 4,
 "nbformat_minor": 2
}
